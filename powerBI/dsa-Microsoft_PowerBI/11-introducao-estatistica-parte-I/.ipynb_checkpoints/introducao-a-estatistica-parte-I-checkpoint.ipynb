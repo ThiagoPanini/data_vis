{
 "cells": [
  {
   "cell_type": "markdown",
   "metadata": {
    "toc": true
   },
   "source": [
    "<h1>Table of Contents<span class=\"tocSkip\"></span></h1>\n",
    "<div class=\"toc\"><ul class=\"toc-item\"><li><span><a href=\"#Introdução\" data-toc-modified-id=\"Introdução-1\"><span class=\"toc-item-num\">1&nbsp;&nbsp;</span>Introdução</a></span></li><li><span><a href=\"#Bibliografia-e-Datasets\" data-toc-modified-id=\"Bibliografia-e-Datasets-2\"><span class=\"toc-item-num\">2&nbsp;&nbsp;</span>Bibliografia e Datasets</a></span></li><li><span><a href=\"#Estatística-x-Data-Science\" data-toc-modified-id=\"Estatística-x-Data-Science-3\"><span class=\"toc-item-num\">3&nbsp;&nbsp;</span>Estatística x Data Science</a></span></li><li><span><a href=\"#Definindo-a-Estatística---Parte-1/2\" data-toc-modified-id=\"Definindo-a-Estatística---Parte-1/2-4\"><span class=\"toc-item-num\">4&nbsp;&nbsp;</span>Definindo a Estatística - Parte 1/2</a></span></li><li><span><a href=\"#Definindo-a-Estatística---Parte-2/2\" data-toc-modified-id=\"Definindo-a-Estatística---Parte-2/2-5\"><span class=\"toc-item-num\">5&nbsp;&nbsp;</span>Definindo a Estatística - Parte 2/2</a></span></li><li><span><a href=\"#Estatística-Descritiva---População-e-Amostra\" data-toc-modified-id=\"Estatística-Descritiva---População-e-Amostra-6\"><span class=\"toc-item-num\">6&nbsp;&nbsp;</span>Estatística Descritiva - População e Amostra</a></span></li><li><span><a href=\"#Como-Deve-Ser-a-Amostragem?\" data-toc-modified-id=\"Como-Deve-Ser-a-Amostragem?-7\"><span class=\"toc-item-num\">7&nbsp;&nbsp;</span>Como Deve Ser a Amostragem?</a></span></li><li><span><a href=\"#Parâmetro-x-Estatística\" data-toc-modified-id=\"Parâmetro-x-Estatística-8\"><span class=\"toc-item-num\">8&nbsp;&nbsp;</span>Parâmetro x Estatística</a></span></li><li><span><a href=\"#Dados-Primários-x-Dados-Secundários\" data-toc-modified-id=\"Dados-Primários-x-Dados-Secundários-9\"><span class=\"toc-item-num\">9&nbsp;&nbsp;</span>Dados Primários x Dados Secundários</a></span></li><li><span><a href=\"#Observações-x-Variáveis\" data-toc-modified-id=\"Observações-x-Variáveis-10\"><span class=\"toc-item-num\">10&nbsp;&nbsp;</span>Observações x Variáveis</a></span></li><li><span><a href=\"#Tipos-de-Variáveis\" data-toc-modified-id=\"Tipos-de-Variáveis-11\"><span class=\"toc-item-num\">11&nbsp;&nbsp;</span>Tipos de Variáveis</a></span></li><li><span><a href=\"#Medidas-de-Posição---Média,-Mediana-e-Moda\" data-toc-modified-id=\"Medidas-de-Posição---Média,-Mediana-e-Moda-12\"><span class=\"toc-item-num\">12&nbsp;&nbsp;</span>Medidas de Posição - Média, Mediana e Moda</a></span></li></ul></div>"
   ]
  },
  {
   "cell_type": "markdown",
   "metadata": {},
   "source": [
    "Este notebook tem como objetivo o detalhamento do conteúdo do capítulo 11 do curso Microsoft Power Bi para Data Science: _Introdução à Estatística para Data Science - **Parte 1**_. Cada tópico deste notebook será referenciado por um vídeo deste capítulo, trazendo informações sobre o tema e, se aplicável, implementações práticas em Python."
   ]
  },
  {
   "cell_type": "markdown",
   "metadata": {},
   "source": [
    "# Introdução"
   ]
  },
  {
   "cell_type": "markdown",
   "metadata": {},
   "source": [
    "O objetivo deste capítulo é introduzir os principais conceitos estatísticos, principalmente aqueles utilizados em Data Science. Sabemos que a `estatística` é um dos pilares da Ciência de Dados e, estudá-la significa dar um grande passo nesse universo de Analytics. \n",
    "\n",
    "O estudo de estatística trazido dentro do curso Microsoft para Power Bi está dividido em duas partes, sendo:\n",
    "\n",
    "* **Parte 1:** abordagem de conceitos fundamentos de estatística descritiva;\n",
    "* **Parte 2:** probabilidade e estatística inferencial."
   ]
  },
  {
   "cell_type": "markdown",
   "metadata": {},
   "source": [
    "Ao longo do capítulo, será oferecida uma grande carga teórica com momentos práticos em **R** e Power BI (utilizaremos Python)"
   ]
  },
  {
   "cell_type": "markdown",
   "metadata": {},
   "source": [
    "# Bibliografia e Datasets"
   ]
  },
  {
   "cell_type": "markdown",
   "metadata": {},
   "source": [
    "Abaixo seguem alguns links de livros recomendados pelo instrutor:\n",
    "\n",
    "* [Estatística. O que É, Para que Serve, Como Funciona](https://www.amazon.com.br/Estat%C3%ADstica-Para-Serve-Como-Funciona/dp/8537815128/ref=sr_1_1?ie=UTF8&qid=1503530961&sr=8-1&keywords=estat%C3%ADstica)\n",
    "* [Como Mentir com Estatística](https://www.amazon.com.br/Como-Mentir-Estat%C3%ADstica-Darrell-Huff/dp/858057952X/ref=sr_1_2?ie=UTF8&qid=1503530961&sr=8-2&keywords=estat%C3%ADstica)\n",
    "* [Estatística Para Leigos](https://www.amazon.com.br/Estat%C3%ADstica-Para-Leigos-Deborah-Rumsey-ebook/dp/B00OSCGXZM/ref=sr_1_6?ie=UTF8&qid=1503530961&sr=8-6&keywords=estat%C3%ADstica)\n",
    "* [Estatística Básica](https://www.amazon.com.br/Estat%C3%ADstica-B%C3%A1sica-Wilton-O-Bussab/dp/8547220224/ref=sr_1_12?ie=UTF8&qid=1503530961&sr=8-12&keywords=estat%C3%ADstica)\n",
    "* [Cronologia de Alguns Conceitos e Fatos Importantes da Estatística](http://www.famat.ufu.br/sites/famat.ufu.br/files/Anexos/Bookpage/Anexos_CronologiaEstatisticaGaussCordeiro.pdf)\n",
    "* [An Introduction to Statistical Learning with Aplications in R](http://www-bcf.usc.edu/~gareth/ISL/)"
   ]
  },
  {
   "cell_type": "markdown",
   "metadata": {},
   "source": [
    "Abaixo, alguns links extremamente úteis contendo repositórios de dados abertos:"
   ]
  },
  {
   "cell_type": "markdown",
   "metadata": {},
   "source": [
    "* [GovData](http://govdata.gov.br/)\n",
    "* [Dados Abertos](http://dados.gov.br/)\n",
    "* [O Poder do Open Data](http://www.cienciaedados.com/o-poder-do-open-data/)"
   ]
  },
  {
   "cell_type": "markdown",
   "metadata": {},
   "source": [
    "# Estatística x Data Science"
   ]
  },
  {
   "cell_type": "markdown",
   "metadata": {},
   "source": [
    "Estatística e Data Science são a mesma coisa? `Não`!"
   ]
  },
  {
   "cell_type": "markdown",
   "metadata": {},
   "source": [
    "Estatística e Data Science são áreas distintas, mas com muita coisa em comum. A Estatística é um dos pilares da Ciência de Dados, sendo esta formada também pela Matemática, Ciência da Computação e Conhecimentos das Áreas de Negócio."
   ]
  },
  {
   "cell_type": "markdown",
   "metadata": {},
   "source": [
    "# Definindo a Estatística - Parte 1/2"
   ]
  },
  {
   "cell_type": "markdown",
   "metadata": {},
   "source": [
    "Estatística é um conjunto de métodos usados para a análise de dados, podendo ser aplicada em praticamente todas as áreas do conhecimento humano. Tem como objetivo auxiliar compreensão dos eventos que nos cercam, contribuindo com ferramentas capazes de aprimorar o nosso processo de tomadas de decisões em ambientes de `incertezas` e `variações`.\n",
    "\n",
    "A Estatística está presente em todas as áreas da ciência que envolvam:\n",
    "* O planejamento do experimento;\n",
    "* A construção de modelos;\n",
    "* A coleta;\n",
    "* O processamento e a análise de dados;\n",
    "* E, por fim, a transformação em informação.\n",
    "\n",
    "Isso para _postular, refutar_ ou _validar_ hipóteses científicas sobre um fenômeno observável."
   ]
  },
  {
   "cell_type": "markdown",
   "metadata": {},
   "source": [
    "Assim, a Estatística pode ser pensada como a **ciência de aprendizagem a partir de dados**. Em linhas gerais, a Estatística fornece diversos métodos para tomada de decisão nos mais diversos problemas que envolvam incerteza."
   ]
  },
  {
   "cell_type": "markdown",
   "metadata": {},
   "source": [
    "Os métodos estatísticos são largamente empregados em diversas áreas. Com o advento da computação, a estatística teve um enorme crescimento."
   ]
  },
  {
   "cell_type": "markdown",
   "metadata": {},
   "source": [
    "O enorme volume de dados conhecido como **Big Data** é um dos pontos propulsores do sucesso da análise estatística, uma vez que, unindo estes dois universos, temos níveis de precisão nunca obtidos antes em análises estatísticas."
   ]
  },
  {
   "cell_type": "markdown",
   "metadata": {},
   "source": [
    "# Definindo a Estatística - Parte 2/2"
   ]
  },
  {
   "cell_type": "markdown",
   "metadata": {},
   "source": [
    "As três grandes áreas da Estatística:\n",
    "\n",
    "* Probabilidade;\n",
    "* Estatística Descritiva;\n",
    "* Estatística Inferencial;"
   ]
  },
  {
   "cell_type": "markdown",
   "metadata": {},
   "source": [
    "**Probabilidade:** estudo da aleatoriedade e da incerteza. Diversas técnicas de Machine Learning são baseadas nas teorias da probabilidade e é extremamente válido aprender esse conceito para seguir na carreira de Ciência de Dados."
   ]
  },
  {
   "cell_type": "markdown",
   "metadata": {},
   "source": [
    " **Estatística Descritiva:** utiliza método para coleta, organização, apresentação, análise e síntese de dados obtidos em uma população ou amostra."
   ]
  },
  {
   "cell_type": "markdown",
   "metadata": {},
   "source": [
    "**Estatística Inferencial:** é o processo de estimar informações sobre uma população a partir dos resultados observados em uma amostra. Muitos modelos de Machine Learning utilizam conceitos de estatística inferencial."
   ]
  },
  {
   "cell_type": "markdown",
   "metadata": {},
   "source": [
    "Afinal, o que é a Estatística?\n",
    "\n",
    "_Estatística é a ciência, parte da Matemática Aplicada, que fornece métodos para coletar, descrever, analisar, apresentar e interpretar dados para a utilização dos mesmos na tomada de decisões_."
   ]
  },
  {
   "cell_type": "markdown",
   "metadata": {},
   "source": [
    "E o que é Big Data Analytics?"
   ]
  },
  {
   "cell_type": "markdown",
   "metadata": {},
   "source": [
    "_Big Data Analytics é o termo que se refere a análise esstatística de grandes quantidades de dados, para que se possa extrair informação relevante para a compreensão da situação atual e a tomada de decisões._"
   ]
  },
  {
   "cell_type": "markdown",
   "metadata": {},
   "source": [
    "A verdade é que nunca tivemos tantos dados como atualmente. Hoje, mais do que nunca, as técnicas estatísticas podem ser empregadas com um nível de precisão cada vez maior."
   ]
  },
  {
   "cell_type": "markdown",
   "metadata": {},
   "source": [
    "# Estatística Descritiva - População e Amostra"
   ]
  },
  {
   "cell_type": "markdown",
   "metadata": {},
   "source": [
    "**População:** todos os elementos distintos - indivíduos, itens ou objetos - cujas características estejam sendo estudadas."
   ]
  },
  {
   "cell_type": "markdown",
   "metadata": {},
   "source": [
    "**Amostra:** parte de e coletada a partir de uma população."
   ]
  },
  {
   "cell_type": "markdown",
   "metadata": {},
   "source": [
    "Um exemplo clássico de amostragem ocorre nas pesquisas eleitorais. Com total certeza, os institutos de pesquisas não perguntam individualmente a todos os brasileiros, mas sim utilizam técnicas de amostragem, selecionando grupos específicos de indivíduos para realizarem a pesquisa e, a partir disso, deduzir o percentual de votação para toda a população. Essa amostragem deve ser relizada utilizando técnicas e procedimentos específicos."
   ]
  },
  {
   "cell_type": "markdown",
   "metadata": {},
   "source": [
    "Outro exemplo:\n",
    "* Amostragem em lotes de fabricação;"
   ]
  },
  {
   "cell_type": "markdown",
   "metadata": {},
   "source": [
    "Um conceito extremamente importante na amostragem é a **randomização** (exemplo sopa mexida e mal mexida)."
   ]
  },
  {
   "cell_type": "markdown",
   "metadata": {},
   "source": [
    "# Como Deve Ser a Amostragem?"
   ]
  },
  {
   "cell_type": "markdown",
   "metadata": {},
   "source": [
    "**Amostragem:** usa coleta, organização, apresentação e análise dos dados como meio de estudar os parâmetros de uma população.\n",
    "\n",
    "**Censo:** é a técnica que seleciona e avalia _todos_ os elementos da população quando se realiza uma pesquisa. "
   ]
  },
  {
   "cell_type": "markdown",
   "metadata": {},
   "source": [
    "Por que não medir uma população inteira ao invés de medir uma amostra?\n",
    "\n",
    "R: _Dependendo das circunstâncias, medir a população inteira pode ser muito caro ou então inviável! (exemplo de medição de nível de sal em fábrica de biscoito)_"
   ]
  },
  {
   "cell_type": "markdown",
   "metadata": {},
   "source": [
    "Trabalhando com dados representativos na amostra, é possível **inferir** o que está acontecendo na população como um todo. Esse é o princípio da Estatística Inferencial."
   ]
  },
  {
   "cell_type": "markdown",
   "metadata": {},
   "source": [
    "Uma amostra não pode ser tão pequena a ponto de não representar a população e nem tão grande a ponto de ser muito custosa a realização da coleta e da análise de dados. Ao escolher uma amostra, é preciso garantir que todos os elementos tenham a mesma chance de serem selecionados em um número suficiente para que os dados e as conclusões não fiquem distoricos."
   ]
  },
  {
   "cell_type": "markdown",
   "metadata": {},
   "source": [
    "`Amostragem Probabilística:`\n",
    "    * Objetiva.\n",
    "    * Não é influenciada pela pessoa que está conduzindo a pesquisa.\n",
    "    * Elementos da amostra são selecionados aleatoriamente e possuem probabilidade conhecida de serem escolhidos.\n",
    "    * Sorteios não viciados.\n",
    "    * Amostragem simples ao acaso.\n",
    "    * Amostragem sistemática (sistema para coleta de amostra -> esteira que coleta elementos a cada x min).\n",
    "    * Amostragem por conglomerado (divisão da população por grupos)\n",
    "    * Amostragem estratificada (divisão por estrato / classes)\n",
    "    * Reamostragem (bootstrap - com ou sem reposição)"
   ]
  },
  {
   "cell_type": "markdown",
   "metadata": {},
   "source": [
    "`Amostragem Não Probabilística:`\n",
    "    * Influenciada pela pessoa que está conduzindo a pesquisa.\n",
    "    * Amostragem a esmo.\n",
    "    * Amostragem intencional.\n",
    "    * Amostragem por voluntários.\n",
    "    * Conveniência."
   ]
  },
  {
   "cell_type": "markdown",
   "metadata": {},
   "source": [
    "# Parâmetro x Estatística"
   ]
  },
  {
   "cell_type": "markdown",
   "metadata": {},
   "source": [
    "**Parâmetro:** característica sobre a população."
   ]
  },
  {
   "cell_type": "markdown",
   "metadata": {},
   "source": [
    "Modelos estatísticos utilizam matemática para representar o mundo real (população). Os valores chaves nesses modelos são chamados de _parâmetros_. Utilizamos amostras exatamente para estimar valores para os parâmetros da população. Os valores chaves nas amostras são chamados de estatísticas das amostras."
   ]
  },
  {
   "cell_type": "markdown",
   "metadata": {},
   "source": [
    "**Estatística:** característica sobre a amostra.\n",
    "\n",
    "Valores calculados usando daods da amostra são chamados de estatísticas."
   ]
  },
  {
   "cell_type": "markdown",
   "metadata": {},
   "source": [
    "**Estatística Inferencial:** realiza deduções e conclusões sobre a população, baseadas nos resultados obtidos da análise da amostra. É preciso ter muito cuidado ao definir a amostra, pois isto influencia diretamente nos resultados da população (viés/bias)."
   ]
  },
  {
   "cell_type": "markdown",
   "metadata": {},
   "source": [
    "# Dados Primários x Dados Secundários"
   ]
  },
  {
   "cell_type": "markdown",
   "metadata": {},
   "source": [
    "Nunca tivemos tantos dados, na história da humanidade, como temos hoje. Os dados podem ser obtidos através de duas fontes principais:\n",
    "\n",
    "* Dados Primários:\n",
    "    * Coletados por quem faz a análise;\n",
    "    * Confiáveis;\n",
    "    * Possuem maior controle;\n",
    "    \n",
    "\n",
    "* Dados Secundários:\n",
    "    * Coletados por terceiros;\n",
    "    * Não confiáveis;\n",
    "    * Não possuem muito controle."
   ]
  },
  {
   "cell_type": "markdown",
   "metadata": {},
   "source": [
    "No caso dos **Dados Primários**, temos a confiabilidade, a qualidade e o controle como principais vantagens. O custo e o tempo demandado são as principais desvantagens."
   ]
  },
  {
   "cell_type": "markdown",
   "metadata": {},
   "source": [
    "Já os **Dados Secundários** podem ser mais vantajosos financeiramente, porém a confiabilidade não é alta, uma vez que os métodos utilizados não são conhecidos."
   ]
  },
  {
   "cell_type": "markdown",
   "metadata": {},
   "source": [
    "# Observações x Variáveis"
   ]
  },
  {
   "cell_type": "markdown",
   "metadata": {},
   "source": [
    "**Observação:** ocorrência de um item de dados específico que é gravada sobre uma unidade de dados."
   ]
  },
  {
   "cell_type": "markdown",
   "metadata": {},
   "source": [
    "**Variável:** característica de interesse que é medida em cada elemento da amostra ou população. Como o nome sufere, seus valores variam de elemento para elemento. As variáveis podem ter valores numéricos ou não numéricos."
   ]
  },
  {
   "cell_type": "markdown",
   "metadata": {},
   "source": [
    "Um paralelo pode ser feito:\n",
    "\n",
    "* Observações: instâncias;\n",
    "* Variáveis: atributos/features/colunas"
   ]
  },
  {
   "cell_type": "markdown",
   "metadata": {},
   "source": [
    "# Tipos de Variáveis"
   ]
  },
  {
   "cell_type": "markdown",
   "metadata": {},
   "source": [
    "**Variáveis Qualitativa:** utilizam termos descritivos para descrever algo de interesse. Ex: cor dos olhos, estado civil, religião, sexo, grau de escolaridade, classe social, tipo sanguíneo, cor da pele, etc. Também conhecidas como _variáveis categóricas_."
   ]
  },
  {
   "cell_type": "markdown",
   "metadata": {},
   "source": [
    "**Variáveis Quantitativas:** representadas por valores numéricos que podem ser contados ou medidos. Ex: número de crianças em uma sala de aula, peso do corpo humano, idade, número de filhos, etc. Também conhecidas como _variáveis numéricas_."
   ]
  },
  {
   "cell_type": "markdown",
   "metadata": {},
   "source": [
    "* **Qualitativas:**\n",
    "  * Nominais: sem ordem específica (profissão, sexo, religião);\n",
    "  * Ordinais: possuem uma ordem natural (índice de aprovação de um político (péssimo, bom, ótimo), grau de escolaridade (fundamental, médio, superior);"
   ]
  },
  {
   "cell_type": "markdown",
   "metadata": {},
   "source": [
    "* **Quantitativas:**\n",
    "    * Discretas: valores possíveis são contáveis (número de filhos, número de acessos em um portal online);\n",
    "    * Contínuas: valores observáveis dentro de um intervalo (altura, peso, salário)"
   ]
  },
  {
   "cell_type": "markdown",
   "metadata": {},
   "source": [
    "# Medidas de Posição - Média, Mediana e Moda"
   ]
  },
  {
   "cell_type": "markdown",
   "metadata": {},
   "source": [
    "Após a introdução dada nos últimos tópicos, já está razoavelmente claro os conceitos de _População_ e _Amostra_, além das grandes vantagens de se realizar os procedimentos de _Amostragem_, ou seja, a coleta de subconjuntos da população, análise e inferência sobre parâmetros de toda a população. Muitos modelos de Machine Learning e Deep Learning são baseados justamente na análise amostral. Vamos agora analisar algumas medidas da **amostra**."
   ]
  },
  {
   "cell_type": "markdown",
   "metadata": {},
   "source": [
    "**Média:** somam-se todos os valores do conjunto de dados e divide-se pela quantidade de elementos. A média pode trazer algumas armadilhas: outliers dentro do conjunto pode distorcer a média."
   ]
  },
  {
   "cell_type": "markdown",
   "metadata": {},
   "source": [
    "**Mediana:** valor do conjunto de dados que divide o conjunto ao meio. Isto significa que 50% dos elementos da amostra são menores que a mediana e 50% dos valores maiores que a mediana. A mediana é mais robusta que a média com relação a influência de outliers. Se o número de elementos da amostra for `ímpar`, calculamos a mediana por $(n+1)/2$. Se o número de elementos da amostsra for `par`, a mediana será $(n/2)+1$"
   ]
  },
  {
   "cell_type": "markdown",
   "metadata": {},
   "source": [
    "**Moda:** valor de maior frequência da amostra."
   ]
  },
  {
   "cell_type": "code",
   "execution_count": null,
   "metadata": {},
   "outputs": [],
   "source": []
  }
 ],
 "metadata": {
  "kernelspec": {
   "display_name": "Python 3",
   "language": "python",
   "name": "python3"
  },
  "language_info": {
   "codemirror_mode": {
    "name": "ipython",
    "version": 3
   },
   "file_extension": ".py",
   "mimetype": "text/x-python",
   "name": "python",
   "nbconvert_exporter": "python",
   "pygments_lexer": "ipython3",
   "version": "3.7.3"
  },
  "toc": {
   "base_numbering": 1,
   "nav_menu": {},
   "number_sections": true,
   "sideBar": true,
   "skip_h1_title": false,
   "title_cell": "Table of Contents",
   "title_sidebar": "Contents",
   "toc_cell": true,
   "toc_position": {},
   "toc_section_display": true,
   "toc_window_display": true
  },
  "varInspector": {
   "cols": {
    "lenName": 16,
    "lenType": 16,
    "lenVar": 40
   },
   "kernels_config": {
    "python": {
     "delete_cmd_postfix": "",
     "delete_cmd_prefix": "del ",
     "library": "var_list.py",
     "varRefreshCmd": "print(var_dic_list())"
    },
    "r": {
     "delete_cmd_postfix": ") ",
     "delete_cmd_prefix": "rm(",
     "library": "var_list.r",
     "varRefreshCmd": "cat(var_dic_list()) "
    }
   },
   "types_to_exclude": [
    "module",
    "function",
    "builtin_function_or_method",
    "instance",
    "_Feature"
   ],
   "window_display": false
  }
 },
 "nbformat": 4,
 "nbformat_minor": 2
}
